{
 "cells": [
  {
   "cell_type": "code",
   "execution_count": 34,
   "metadata": {},
   "outputs": [
    {
     "name": "stderr",
     "output_type": "stream",
     "text": [
      "[nltk_data] Downloading package punkt to\n",
      "[nltk_data]     C:\\Users\\OWNER\\AppData\\Roaming\\nltk_data...\n",
      "[nltk_data]   Package punkt is already up-to-date!\n"
     ]
    },
    {
     "data": {
      "text/plain": [
       "True"
      ]
     },
     "execution_count": 34,
     "metadata": {},
     "output_type": "execute_result"
    }
   ],
   "source": [
    "#!pip install wordcloud\n",
    "import nltk\n",
    "nltk.download('punkt')"
   ]
  },
  {
   "cell_type": "code",
   "execution_count": 35,
   "metadata": {},
   "outputs": [],
   "source": [
    "import numpy as np\n",
    "import pandas as pd\n",
    "from wordcloud import WordCloud\n",
    "import os\n",
    "import matplotlib.pyplot as plt\n",
    "%matplotlib inline"
   ]
  },
  {
   "cell_type": "code",
   "execution_count": 36,
   "metadata": {},
   "outputs": [
    {
     "data": {
      "text/plain": [
       "'C:\\\\Users\\\\OWNER\\\\Documents\\\\Enhance IT\\\\Week_6'"
      ]
     },
     "execution_count": 36,
     "metadata": {},
     "output_type": "execute_result"
    }
   ],
   "source": [
    "os.getcwd()"
   ]
  },
  {
   "cell_type": "code",
   "execution_count": 37,
   "metadata": {},
   "outputs": [
    {
     "data": {
      "text/plain": [
       "['.ipynb_checkpoints',\n",
       " 'cleaned_data.csv',\n",
       " 'cleaned_tweets.csv',\n",
       " 'Text Preprocessing.ipynb',\n",
       " 'uglywords.csv',\n",
       " 'uglywords.xlsx',\n",
       " 'Untitled.ipynb',\n",
       " 'Untitled1.ipynb']"
      ]
     },
     "execution_count": 37,
     "metadata": {},
     "output_type": "execute_result"
    }
   ],
   "source": [
    "os.listdir(os.getcwd())"
   ]
  },
  {
   "cell_type": "code",
   "execution_count": 38,
   "metadata": {},
   "outputs": [
    {
     "data": {
      "text/plain": [
       "0    *screams in 25 different languages*                                                                                                        \n",
       "1    Families to sue over Legionnaires: More than 40 families affected by the fatal outbreak of Legionnaires' disea... http://t.co/ZA4AXFJSVB   \n",
       "2    Pandemonium In Aba As Woman Delivers Baby Without Face (Photos) - http://t.co/c5u9qshhnb                                                   \n",
       "3    My emotions are a train wreck. My body is a train wreck. I'm a wreck                                                                       \n",
       "4    Alton brown just did a livestream and he burned the butter and touched the hot plate too soon and made a nut joke http://t.co/gvd7fcx8iZ   \n",
       "5    @TinyJecht Are you another Stand-user? If you are I will have to detonate you with my Killer Queen.                                        \n",
       "6    brooke just face timed me at the concert and just screamed for 2 minutes straight                                                          \n",
       "7    A group of Florida Forest Service firefighters could be deployed to California to help contain fires. Details at 10! http://t.co/fwuP9YURzY\n",
       "8    70 Years After Atomic Bombs Japan Still Struggles With War Past: The anniversary of the devastation wrought b... http://t.co/iTBJ6DKRZI    \n",
       "9    The majority of those killed were civilians on the ground after the jet first bombed the city's main street then dramatically plummeted    \n",
       "Name: Tweet, dtype: object"
      ]
     },
     "execution_count": 38,
     "metadata": {},
     "output_type": "execute_result"
    }
   ],
   "source": [
    "#Load text\n",
    "text = pd.read_csv('uglywords.csv', encoding = 'latin1')\n",
    "text['Tweet'].head(10)"
   ]
  },
  {
   "cell_type": "code",
   "execution_count": 39,
   "metadata": {},
   "outputs": [
    {
     "data": {
      "text/plain": [
       "(739, 2)"
      ]
     },
     "execution_count": 39,
     "metadata": {},
     "output_type": "execute_result"
    }
   ],
   "source": [
    "text.shape"
   ]
  },
  {
   "cell_type": "code",
   "execution_count": 40,
   "metadata": {},
   "outputs": [
    {
     "data": {
      "text/plain": [
       "['Label', 'Tweet']"
      ]
     },
     "execution_count": 40,
     "metadata": {},
     "output_type": "execute_result"
    }
   ],
   "source": [
    "list(text.columns.values)"
   ]
  },
  {
   "cell_type": "code",
   "execution_count": 41,
   "metadata": {},
   "outputs": [
    {
     "name": "stdout",
     "output_type": "stream",
     "text": [
      "0.0    471\n",
      "1.0    267\n",
      "Name: Label, dtype: int64\n"
     ]
    }
   ],
   "source": [
    "# let us see the count of sentiments by each category, negative (0) vs. positive sentiments (1)\n",
    "print(text.Label.value_counts())"
   ]
  },
  {
   "cell_type": "code",
   "execution_count": null,
   "metadata": {},
   "outputs": [],
   "source": []
  },
  {
   "cell_type": "code",
   "execution_count": 42,
   "metadata": {},
   "outputs": [],
   "source": [
    "## Tokenize the text"
   ]
  },
  {
   "cell_type": "code",
   "execution_count": 43,
   "metadata": {},
   "outputs": [],
   "source": [
    "import re\n",
    "import nltk\n",
    "from nltk.stem import WordNetLemmatizer\n",
    "from nltk.corpus import stopwords\n",
    "stop_words = set(stopwords.words('english'))\n",
    "wordnet_lemmatizer = WordNetLemmatizer()"
   ]
  },
  {
   "cell_type": "code",
   "execution_count": 44,
   "metadata": {
    "scrolled": true
   },
   "outputs": [
    {
     "name": "stderr",
     "output_type": "stream",
     "text": [
      "[nltk_data] Downloading package wordnet to\n",
      "[nltk_data]     C:\\Users\\OWNER\\AppData\\Roaming\\nltk_data...\n",
      "[nltk_data]   Package wordnet is already up-to-date!\n"
     ]
    },
    {
     "data": {
      "text/plain": [
       "True"
      ]
     },
     "execution_count": 44,
     "metadata": {},
     "output_type": "execute_result"
    }
   ],
   "source": [
    "import nltk\n",
    "nltk.download('wordnet')"
   ]
  },
  {
   "cell_type": "code",
   "execution_count": 45,
   "metadata": {},
   "outputs": [],
   "source": [
    "def normalizer(tweet):\n",
    "    no_urls = re.sub(r\"http\\S+\", \" \" ,tweet)\n",
    "    only_letters = re.sub(\"[^a-zA-Z]\", \" \",no_urls)\n",
    "    tokens = nltk.word_tokenize(only_letters)[2 :]\n",
    "    lower_case = [l.lower() for l in tokens]\n",
    "    filtered_result = list(filter(lambda l: l not in stop_words, lower_case))\n",
    "    lemmas = [wordnet_lemmatizer.lemmatize(t) for t in filtered_result]\n",
    "    return lemmas"
   ]
  },
  {
   "cell_type": "code",
   "execution_count": 46,
   "metadata": {},
   "outputs": [
    {
     "data": {
      "text/plain": [
       "['dangerous', 'never', 'know', 'emotion', 'mean']"
      ]
     },
     "execution_count": 46,
     "metadata": {},
     "output_type": "execute_result"
    }
   ],
   "source": [
    "normalizer('Shamiso is so dangerous because you never know what her emotions mean')"
   ]
  },
  {
   "cell_type": "code",
   "execution_count": 47,
   "metadata": {
    "scrolled": true
   },
   "outputs": [
    {
     "name": "stderr",
     "output_type": "stream",
     "text": [
      "C:\\Users\\OWNER\\anaconda3\\lib\\site-packages\\ipykernel_launcher.py:1: FutureWarning: Passing a negative integer is deprecated in version 1.0 and will not be supported in future version. Instead, use None to not limit the column width.\n",
      "  \"\"\"Entry point for launching an IPython kernel.\n"
     ]
    },
    {
     "data": {
      "text/html": [
       "<div>\n",
       "<style scoped>\n",
       "    .dataframe tbody tr th:only-of-type {\n",
       "        vertical-align: middle;\n",
       "    }\n",
       "\n",
       "    .dataframe tbody tr th {\n",
       "        vertical-align: top;\n",
       "    }\n",
       "\n",
       "    .dataframe thead th {\n",
       "        text-align: right;\n",
       "    }\n",
       "</style>\n",
       "<table border=\"1\" class=\"dataframe\">\n",
       "  <thead>\n",
       "    <tr style=\"text-align: right;\">\n",
       "      <th></th>\n",
       "      <th>Tweet</th>\n",
       "      <th>normalized_tweet</th>\n",
       "    </tr>\n",
       "  </thead>\n",
       "  <tbody>\n",
       "    <tr>\n",
       "      <th>0</th>\n",
       "      <td>*screams in 25 different languages*</td>\n",
       "      <td>[different, language]</td>\n",
       "    </tr>\n",
       "    <tr>\n",
       "      <th>1</th>\n",
       "      <td>Families to sue over Legionnaires: More than 40 families affected by the fatal outbreak of Legionnaires' disea... http://t.co/ZA4AXFJSVB</td>\n",
       "      <td>[sue, legionnaire, family, affected, fatal, outbreak, legionnaire, disea]</td>\n",
       "    </tr>\n",
       "    <tr>\n",
       "      <th>2</th>\n",
       "      <td>Pandemonium In Aba As Woman Delivers Baby Without Face (Photos) - http://t.co/c5u9qshhnb</td>\n",
       "      <td>[aba, woman, delivers, baby, without, face, photo]</td>\n",
       "    </tr>\n",
       "    <tr>\n",
       "      <th>3</th>\n",
       "      <td>My emotions are a train wreck. My body is a train wreck. I'm a wreck</td>\n",
       "      <td>[train, wreck, body, train, wreck, wreck]</td>\n",
       "    </tr>\n",
       "    <tr>\n",
       "      <th>4</th>\n",
       "      <td>Alton brown just did a livestream and he burned the butter and touched the hot plate too soon and made a nut joke http://t.co/gvd7fcx8iZ</td>\n",
       "      <td>[livestream, burned, butter, touched, hot, plate, soon, made, nut, joke]</td>\n",
       "    </tr>\n",
       "    <tr>\n",
       "      <th>5</th>\n",
       "      <td>@TinyJecht Are you another Stand-user? If you are I will have to detonate you with my Killer Queen.</td>\n",
       "      <td>[another, stand, user, detonate, killer, queen]</td>\n",
       "    </tr>\n",
       "    <tr>\n",
       "      <th>6</th>\n",
       "      <td>brooke just face timed me at the concert and just screamed for 2 minutes straight</td>\n",
       "      <td>[face, timed, concert, screamed, minute, straight]</td>\n",
       "    </tr>\n",
       "    <tr>\n",
       "      <th>7</th>\n",
       "      <td>A group of Florida Forest Service firefighters could be deployed to California to help contain fires. Details at 10! http://t.co/fwuP9YURzY</td>\n",
       "      <td>[florida, forest, service, firefighter, could, deployed, california, help, contain, fire, detail]</td>\n",
       "    </tr>\n",
       "    <tr>\n",
       "      <th>8</th>\n",
       "      <td>70 Years After Atomic Bombs Japan Still Struggles With War Past: The anniversary of the devastation wrought b... http://t.co/iTBJ6DKRZI</td>\n",
       "      <td>[atomic, bomb, japan, still, struggle, war, past, anniversary, devastation, wrought, b]</td>\n",
       "    </tr>\n",
       "    <tr>\n",
       "      <th>9</th>\n",
       "      <td>The majority of those killed were civilians on the ground after the jet first bombed the city's main street then dramatically plummeted</td>\n",
       "      <td>[killed, civilian, ground, jet, first, bombed, city, main, street, dramatically, plummeted]</td>\n",
       "    </tr>\n",
       "  </tbody>\n",
       "</table>\n",
       "</div>"
      ],
      "text/plain": [
       "                                                                                                                                         Tweet  \\\n",
       "0  *screams in 25 different languages*                                                                                                           \n",
       "1  Families to sue over Legionnaires: More than 40 families affected by the fatal outbreak of Legionnaires' disea... http://t.co/ZA4AXFJSVB      \n",
       "2  Pandemonium In Aba As Woman Delivers Baby Without Face (Photos) - http://t.co/c5u9qshhnb                                                      \n",
       "3  My emotions are a train wreck. My body is a train wreck. I'm a wreck                                                                          \n",
       "4  Alton brown just did a livestream and he burned the butter and touched the hot plate too soon and made a nut joke http://t.co/gvd7fcx8iZ      \n",
       "5  @TinyJecht Are you another Stand-user? If you are I will have to detonate you with my Killer Queen.                                           \n",
       "6  brooke just face timed me at the concert and just screamed for 2 minutes straight                                                             \n",
       "7  A group of Florida Forest Service firefighters could be deployed to California to help contain fires. Details at 10! http://t.co/fwuP9YURzY   \n",
       "8  70 Years After Atomic Bombs Japan Still Struggles With War Past: The anniversary of the devastation wrought b... http://t.co/iTBJ6DKRZI       \n",
       "9  The majority of those killed were civilians on the ground after the jet first bombed the city's main street then dramatically plummeted       \n",
       "\n",
       "                                                                                    normalized_tweet  \n",
       "0  [different, language]                                                                              \n",
       "1  [sue, legionnaire, family, affected, fatal, outbreak, legionnaire, disea]                          \n",
       "2  [aba, woman, delivers, baby, without, face, photo]                                                 \n",
       "3  [train, wreck, body, train, wreck, wreck]                                                          \n",
       "4  [livestream, burned, butter, touched, hot, plate, soon, made, nut, joke]                           \n",
       "5  [another, stand, user, detonate, killer, queen]                                                    \n",
       "6  [face, timed, concert, screamed, minute, straight]                                                 \n",
       "7  [florida, forest, service, firefighter, could, deployed, california, help, contain, fire, detail]  \n",
       "8  [atomic, bomb, japan, still, struggle, war, past, anniversary, devastation, wrought, b]            \n",
       "9  [killed, civilian, ground, jet, first, bombed, city, main, street, dramatically, plummeted]        "
      ]
     },
     "execution_count": 47,
     "metadata": {},
     "output_type": "execute_result"
    }
   ],
   "source": [
    "pd.set_option('display.max_colwidth', -1)\n",
    "text['normalized_tweet'] = text.Tweet.apply(normalizer)\n",
    "text[['Tweet', 'normalized_tweet']].head(10)"
   ]
  },
  {
   "cell_type": "code",
   "execution_count": 48,
   "metadata": {},
   "outputs": [
    {
     "data": {
      "text/plain": [
       "0    [different, language]                                                    \n",
       "1    [sue, legionnaire, family, affected, fatal, outbreak, legionnaire, disea]\n",
       "2    [aba, woman, delivers, baby, without, face, photo]                       \n",
       "3    [train, wreck, body, train, wreck, wreck]                                \n",
       "4    [livestream, burned, butter, touched, hot, plate, soon, made, nut, joke] \n",
       "Name: normalized_tweet, dtype: object"
      ]
     },
     "execution_count": 48,
     "metadata": {},
     "output_type": "execute_result"
    }
   ],
   "source": [
    "text.normalized_tweet.head()"
   ]
  },
  {
   "cell_type": "code",
   "execution_count": 49,
   "metadata": {},
   "outputs": [],
   "source": [
    "test = 'https://www.shatorangola.com is the best company where you can buy all your PPE and get help with visual inspection whenever you need it%?//267'"
   ]
  },
  {
   "cell_type": "code",
   "execution_count": 50,
   "metadata": {},
   "outputs": [],
   "source": [
    "test = normalizer(test)"
   ]
  },
  {
   "cell_type": "code",
   "execution_count": 51,
   "metadata": {},
   "outputs": [
    {
     "data": {
      "text/plain": [
       "['best',\n",
       " 'company',\n",
       " 'buy',\n",
       " 'ppe',\n",
       " 'get',\n",
       " 'help',\n",
       " 'visual',\n",
       " 'inspection',\n",
       " 'whenever',\n",
       " 'need']"
      ]
     },
     "execution_count": 51,
     "metadata": {},
     "output_type": "execute_result"
    }
   ],
   "source": [
    "test"
   ]
  },
  {
   "cell_type": "code",
   "execution_count": 52,
   "metadata": {},
   "outputs": [
    {
     "name": "stdout",
     "output_type": "stream",
     "text": [
      "http://t.co/ZA4AXFJSVB\n",
      "http://t.co/c5u9qshhnb\n",
      "http://t.co/gvd7fcx8iZ\n",
      "http://t.co/fwuP9YURzY\n",
      "http://t.co/iTBJ6DKRZI\n",
      "http://t.co/tYeWZf3hqA\n",
      "http://t.co/lrx0sDsNHM\n",
      "http://t.co/TsaLetFtkt\n",
      "http://t.co/BabMf0W2YW\n",
      "http://t.co/pw3tZU0tay\n",
      "http://t.co/wjWYJBncat\n",
      "http://t.co/0Erisq25KT\n",
      "http://t.co/ZBZc8905Gl\n",
      "https://t.co/2BE7BwcMpl\n",
      "http://t.co/DTdidinQyF\n",
      "http://t.co/OSKfyj8CK7\n",
      "http://t.co/C9t2F6DLtM\n",
      "http://t.co/cwZ37lNDVk\n",
      "https://t.co/ldjet9tfMk\n",
      "https://t.co/MctJnZX4H8\n",
      "https://t.co/J3dI85IST5\n",
      "http://t.co/8JvQI9UspL\n",
      "http://t.co/m2y9Ym3iF6\n",
      "http://t.co/KQJevYqzLV\n",
      "http://t.co/HmWhob7prs\n",
      "http://t.co/2RAcaiVFfq\n",
      "http://t.co/rjEbpiB5rZ\n",
      "http://t.co/I7ap1MES8M\n",
      "http://t.co/ugzu9iqPRW\n",
      "http://t.co/xFguklrlTf\n",
      "http://t.co/FeGu8hWMc4\n",
      "http://t.co/1kRPz3j1EU\n",
      "http://t.co/pFMn63VnAm\n",
      "http://t.co/vKwqbOJFJc\n",
      "http://t.co/vEcsoSRleR\n",
      "http://t.co/fiUOgj6hEF\n",
      "http://t.co/2Z2HTDjQZD\n",
      "http://t.co/fMj8MXJY8a\n",
      "https://t.co/3hoIkDmoCB\n",
      "http://t.co/JHc2RT0V9F\n",
      "http://t.co/v9ftYB30EI\n",
      "http://t.co/ObiX79NcxN\n",
      "http://t.co/hVxu1Zcvau\n",
      "http://t.co/iJmCCMHh5G\n",
      "http://t.co/wvTPuRYx63\n",
      "http://t.co/E8aEGOFDY2\n",
      "http://t.co/AuruGJEGIQ\n",
      "http://t.co/L3w8miPvnT\n",
      "http://t.co/O85M1bJFRW\n",
      "http://t.co/JDVSGVhlIs\n",
      "http://t.co/blppzAIbOE\n",
      "http://t.co/PME0HOJVYA\n",
      "http://t.co/LZmL1xB2nH\n",
      "http://t.co/u2NJPoR39K\n",
      "http://t.co/FAJbxz5kar\n",
      "https://t.co/Ii2SpVP89b\n",
      "http://t.co/fT7OrfA52y\n",
      "http://t.co/Dv4MMlsO1I\n",
      "http://t.co/IjzcYtbFfo\n",
      "http://t.co/SiHQPlUIDW\n",
      "http://t.co/NdwEp6IZDQ\n",
      "http://t.co/nS5lBS5ZUp\n",
      "http://t.co/0BtnIwAgt1\n",
      "http://t.co/hHZY3oqeLa\n",
      "http://t.co/4M5UHeyfDo\n",
      "http://t.co/O8X4M5eR6b\n",
      "http://t.co/iGll3ph6O1\n",
      "http://t.co/X5jGKjV6Ma\n",
      "http://t.co/EnQgTbAxUj\n",
      "http://t.co/FId3z4X3s5\n",
      "http://t.co/cybKsXHF7d\n",
      "http://t.co/Iz9U8BhfAA\n",
      "http://t.co/qp6q8RS8ON\n",
      "http://t.co/zOEpZsOkY1\n",
      "http://t.co/XDt4VHFn7B\n",
      "http://t.co/N71hMveRvv\n",
      "http://t.co/p4huQUNDQi\n",
      "http://t.co/VYgh2ni4Ah\n",
      "http://t.co/0kCCG1BT06\n",
      "http://t.co/gM8p0Bd8Mt\n",
      "http://t.co/7b2Wf6ovFK\n",
      "http://t.co/kE6DjxAnmm\n",
      "http://t.co/hTxAi05y7B\n",
      "http://t.co/Gg0dZSvBZ7)\n",
      "http://t.co/kBe91aRCdw\n",
      "http://t.co/NckOgWjq61\n",
      "http://t.co/xSZicdWxq0\n",
      "http://t.co/xwxBYHTuzC\n",
      "http://t.co/wzeDxEFBlg\n",
      "http://t.co/yhmrEgAuxZ\n",
      "http://t.co/Na2Ey64Vsg\n",
      "http://t.co/Gfa3SOw9zn\n",
      "http://t.co/7K5SHaiqIw\n",
      "http://t.co/VhrLsWvZql\n",
      "http://t.co/pA5SSLeFEC\n",
      "http://t.co/SkAAUSjpO4\n",
      "http://t.co/ZnpTdIcQxE\n",
      "http://t.co/gGTmDqUdDo\n",
      "http://t.co/XQIadG9H2w\n",
      "http://t.co/yPEElMjdZY\n",
      "http://t.co/E0luGBL6pb\n",
      "http://t.co/5fHkxtrhYU\n",
      "http://t.co/7aGeAkVn2x\n",
      "http://t.co/tBsTk5VqU0\n",
      "http://t.co/nnv3zwVANt\n",
      "http://t.co/aPreNsss3x\n",
      "locusts\n",
      "\n",
      "http://t.co/79Fw9zWxtP\n",
      "http://t.co/ethgAGPy5G\n",
      "http://t.co/oi6CmAGASi\n",
      "http://t.co/dGGm5b0w4L\n",
      "http://t.co/eYr2Xx5l1p\n",
      "http://t.co/m2YUXNqlqY\n",
      "http://t.co/V8GKkfMFXT\n",
      "http://t.co/ko0oz3RYFg\n",
      "http://t.co/6WhUgaeM3C\n",
      "http://t.co/kxy56FR8vM\n",
      "http://t.co/tyD47NfL5x\n",
      "http://t.co/3Ac5wuy1R0\n",
      "http://t.co/w7SIIdujOH\n",
      "http://t.co/2nndBGwyEi\n",
      "http://t.co/JeJC9XcTMp\n",
      "http://t.co/dOFRh5YB01\n",
      "http://t.co/KmndkFa7me\n",
      "http://t.co/2kdq56xTWs\n",
      "http://t.co/ooGotO76uZ\n",
      "http://t.co/Gid6jqN8UG\n",
      "http://t.co/JwIv6WYW6F\n",
      "http://t.co/gMoUl9zQ2Q\n",
      "http://t.co/bYtbZ8s5ux\n",
      "http://t.co/o3wVScLiCX\n",
      "http://t.co/qew4c5M1xd\n",
      "http://t.co/yvO6q6W442\n",
      "http://t.co/2JxkmkpalP\n",
      "https://t.co/ec46LyQQc6\n",
      "http://t.co/mBo6OAnIQI\n",
      "http://t.co/0h7OUa1pns\n",
      "http://t.co/EdEKrmqTpQ\n",
      "http://t.co/mtMkiMwiyy\n",
      "http://t.co/rzxQSSun02\n",
      "http://t.co/e2HltYyFAk\n",
      "http://t.co/pmxEzUo4AY\n",
      ":http://t.co/66oBQmxImb\n",
      "http://t.co/gQskwqZuUl\n",
      "http://t.co/XZV0lT9ZZk\n",
      "https://t.co/2ZvhX41I9v\n",
      "http://t.co/XsPqdOrIqj\n",
      "http://t.co/CQYvFR4UCy\n",
      "http://t.co/QU1IUg3E9r\n",
      "http://t.co/hUTHXlkyxy\n",
      "http://t.co/UXqKIeqDyf\n",
      "http://t.co/1RPCHRu72C\n",
      "http://t.co/9WQixGMHfh\n",
      "http://t.co/GFsl2Kwt5h\n",
      "http://t.co/ANrIOMbHQN'\n",
      "http://t.co/kIILdu8GpO\n",
      "https://t.co/wUDlkq7ncx\n",
      "http://t.co/9ikhdyHVnC\n",
      "http://t.co/A3b5n3rcr5\n",
      "http://t.co/siGeeQ42cZ\n",
      "http://t.co/FftOKd0Vts\n",
      "http://t.co/5U5GAkX2ch\n",
      "http://t.co/sAF9MoSkSN\n",
      "http://t.co/eK6KYHxPE9\n",
      "http://t.co/Yn6NxOucR1\n",
      "http://t.co/hPplD1jHtZ\n",
      "http://t.co/daPlllFuqK\n",
      "http://t.co/3tnuACIV3c\n",
      "http://t.co/SAkORGdqUL\n",
      "http://t.co/a2myUTpDiQ\n",
      "http://t.co/XrSkT0s9lz\n",
      "https://t.co/utc7pdIdfo\n",
      "http://t.co/Xum8YLcb4Q\n",
      "http://t.co/iyLVzy3Cob\n",
      "http://t.co/3EV07PPaPn\n",
      "http://t.co/dMTZMgyRiK\n",
      "http://t.co/vXUFtVT9AU\n",
      "http://t.co/bTPQdehl3p\n",
      "http://t.co/PHNEZ60cwe\n",
      "http://t.co/heIekfcHdM\n",
      "http://t.co/5PmikAVyKL\n",
      "http://t.co/XwnJYsV9V9\n",
      "http://t.co/g0dN1ChLUo\n",
      "http://t.co/UP30AQgnLf\n",
      "http://t.co/AXXDCaKzTY\n",
      "http://t.co/GpxQBYzYu4\n",
      "http://t.co/mpOaEFQl6k\n",
      "http://t.co/3GZ5zQQTHe\n",
      "http://t.co/WTfJF9jjzs\n",
      "http://t.co/0cR74m1Uxm\n",
      "http://t.co/9QNQ45Zduw\n",
      "http://t.co/dhyLJllRHL\n",
      "http://t.co/TZyHdBW9f5\n",
      "http://t.co/VdILiiCyR5\n",
      "http://t.co/6jzCEdaYRG\n",
      "http://t.co/fvLgU1naYr\n",
      "https://t.co/MUSBIk7EJf\n",
      "http://t.co/xTF5DvgRvh\n",
      "http://t.co/Cas8xC2DFE\n",
      "http://t.co/GKYe6gjTk5\n",
      "http://t.co/hQZFcXxRsB\n",
      "http://t.co/0VWPdIzckO\n",
      "http://t.co/q2eBlOKeVE\n",
      "http://t.co/eNCmhz6y34\n",
      "http://t.co/US0qQqhQVj\n",
      "http://t.co/l0b14SJ7JB\n",
      "http://t.co/0XCb7yeqmw\n",
      "https://t.co/EWnUnp8Hdo\n",
      "massacre\n",
      "\n",
      "http://t.co/LvlH3W3aWO\n",
      "#Antioch\n",
      "\n",
      "http://t.co/vIwXY1XDYK\n",
      "http://t.co/mkWyvM3i8r\n",
      "http://t.co/mg5eAJElul\n",
      "http://t.co/rJ9gkJKJJn\n",
      "http://t.co/uZwXJBG0Zh\n",
      "http://t.co/1tr2KvXCTW\n",
      "http://t.co/HDJS9RNtJ4\n",
      "https://t.co/UjK0e5GBcC\n",
      "http://t.co/K0Y7xFxmXA\n",
      "http://t.co/oObSCFOKtQ\n",
      "http://t.co/zY3hpdJNwg\n",
      "http://t.co/gTqMGsgcsB\n",
      "http://t.co/iDmhSwewQw\n",
      "http://t.co/wwxcOB52zI\n",
      "http://t.co/eaaQUMkkc9\n",
      "http://t.co/9NwAJLi9cr\n",
      "http://t.co/tKMOtaeaCo\n",
      "http://t.co/7vcEzi6CbB\n",
      "http://t.co/Lhw4vTbHZG\n",
      "http://t.co/nF4IculOje\n",
      "http://t.co/obfD7e4QcP\n",
      "http://t.co/yAZjE5OwVk\n",
      "http://t.co/cPEQv52LNA\n",
      "http://t.co/aKzZOe5CE6\n",
      "http://t.co/F56v61AmPt\n",
      "http://t.co/mNh6FXhOdB\n",
      "http://t.co/1QOchsPYbw\n",
      "http://t.co/2M1gNeaiFl\n",
      "http://t.co/UQh85MiP0v\n",
      "http://t.co/02ELqLOpFk\n",
      "http://t.co/KEfxTjTAKB\n",
      "http://t.co/ohNdh2rI0V\n",
      "http://t.co/I4AogcSOY5\n",
      "http://t.co/dJIwG9pxV4\n",
      "http://t.co/UBFr1URAFc\n",
      "https://t.co/AlnV51d95x\n",
      "http://t.co/ubVEVUuAch\n",
      "http://t.co/1EPIYeNQYL\n",
      "http://t.co/1RrEO2jG9u\n",
      "https://t.co/AIM5CYHL0y\n",
      "http://t.co/0NR4DPjgyL\n",
      "https://t.co/4zmcqRMOIs\n",
      "http://t.co/sjh0HsRp4s\n",
      "http://t.co/dFYrPpzkPu\n",
      "http://t.co/iwsdbGd1zq\n",
      "http://t.co/m7na4sKfWR\n",
      "http://t.co/gtYCQyFuam\n",
      "http://t.co/qwd5PvGjbO\n",
      "http://t.co/rzaGDnWTAH\n",
      "http://t.co/uqEttaGSCU\n",
      "http://t.co/2z8UbsY5M8\n",
      "http://t.co/8xIxBsPOT8\n",
      "Responders\n",
      "https://t.co/G1Nw99YJ8U\n",
      "http://t.co/L056yj2IOi\n",
      "http://t.co/uTMWMjiRty\n",
      "http://t.co/10mUEY8PXJ\n",
      "http://t.co/Tmz6X1N2gQ\n",
      "http://t.co/6SDTzSgElq\n",
      "http://t.co/pAug7a68i0\n",
      "http://t.co/OrJb3j803F\n",
      "http://t.co/MWdHXYfrag\n",
      "http://t.co/tN1aX1xMBB\n",
      "http://t.co/9NwAJLi9cr\n",
      "http://t.co/j4NI4N0yFZ\n",
      "http://t.co/sTfTjCrjEa\n",
      "http://t.co/FqQI8GVLQ4\n",
      "http://t.co/Yr67ugEsrm\n",
      "http://t.co/GtdNW1SpVi\n",
      "http://t.co/JSZZQsT3XS\n",
      "http://t.co/EYSVvzA7Qm\n",
      "http://t.co/JRDwyy0aX4\n",
      "http://t.co/M8UfjDtlsm\n",
      "http://t.co/LkwxU8QV7n\n",
      "http://t.co/wGl4LUbnw1\n",
      "http://t.co/ym3cWw28dJ\n",
      "https://t.co/OpJwuNUvG8\n",
      "https://t.co/BhufevaGPu\n",
      "http://t.co/Zo8RsqURa2\n",
      "http://t.co/NJQV45ndS2\n",
      "https://t.co/PRojeAvG8T\n",
      "http://t.co/hcYAJsAcfJ\n",
      "http://t.co/qDhxto57EM\n",
      "http://t.co/pDOSrg8Cf7\n",
      "http://t.co/JixScpMdUD\n",
      "http://t.co/NXkUM9h7wD\n",
      "http://t.co/OmB3oS54tN\n",
      "http://t.co/cIrTVml9Vp\n",
      "https://t.co/ZPSnX5iYAJ\n",
      "https://t.co/fW1PtaElgV\n",
      "http://t.co/Q0JHDcU6Ly\n",
      "http://t.co/2mnQC73hFk\n",
      "http://t.co/tCJfCkXdZL\n",
      "http://t.co/EmTXtGO4CE\n",
      "http://t.co/637rc3qc8D\n",
      "http://t.co/teGAjMR8iL\n",
      "http://t.co/DctV1uJLHc\n",
      "http://t.co/QOx1jNQSAU\n",
      "http://t.co/DlP8kPkt2k\n",
      "http://t.co/zW5jp46v5kÛ\n",
      "http://t.co/Cwm0ULqu3E\n",
      "http://t.co/tt4kVmvuJq\n",
      "Fires\n",
      "http://t.co/6o1mgMGHgt\n",
      "http://t.co/wTPO6elRZd\n",
      "http://t.co/k0QtL8aODH\n",
      "http://t.co/zQBXe7x9Y7\n",
      "http://t.co/lzff4pT4AZ\n",
      "http://t.co/Av2JSjfFtc\n",
      "http://t.co/xDxDPrcPnS\n",
      "http://t.co/OXRwRJZmnu\n",
      "continues\n",
      "http://t.co/uxp6PoqjLb\n",
      "http://t.co/bIRKbje23e\n",
      "http://t.co/buZWJmW49e\n",
      "http://t.co/dCDeCFv934\n",
      "http://t.co/dWBC1dUvdk\n",
      "http://t.co/xteZGjfs8A\n",
      "http://t.co/PnhPLJHo8E\n",
      "http://t.co/vdUKcV7YJy\n",
      "http://t.co/IYs9xWPVMK\n",
      "http://t.co/serARcNrbY\n",
      "http://t.co/DsB3lDfuxU\n",
      "http://t.co/zGSJWXdrCM\n",
      "http://t.co/5orTB8p51c\n",
      "http://t.co/DMb6xP966D\n",
      "http://t.co/sEquWmvFx4\n",
      "http://t.co/JrxgoLnPqw\n",
      "http://t.co/Lin16KvZbn\n",
      "https://t.co/fz1HAEj255\n",
      "http://t.co/tFan6qq2Ys\n",
      "http://t.co/rAkwWritPo\n",
      "http://t.co/6X0xHlbxji\n",
      "http://t.co/s7NBowa7TP\n",
      "http://t.co/3f7owdEcy7)\n",
      "http://t.co/cP7c1cH0ZU\n",
      "http://t.co/hVJmuuaLXV\n",
      "http://t.co/T8Nz6h9Zz4\n",
      "http://t.co/i7kZtevb2v\n",
      "http://t.co/X0QLgwoyMT\n",
      "http://t.co/hQNx8qMeG3\n",
      "http://t.co/Jw6FNnsSxT\n",
      "http://t.co/4zAzTB19qE\n",
      "http://t.co/XqdVghz8G6\n",
      "http://t.co/UsVyHdG9OG\n",
      "http://t.co/EXQKmlg4NJ\n",
      "http://t.co/mfckpVzfV8\n",
      "Defense\n",
      "\n",
      "http://t.co/zAHNEwJrI8\n",
      "http://t.co/Kv5L4PPXfG\n",
      "http://t.co/TIM8x9bI0f\n",
      "http://t.co/WosYPVQUFI\n",
      "http://t.co/XW8SDS1Tjp\n",
      "http://t.co/UpPwxDA4yd\n",
      "http://t.co/AdZ8kbuRt7\n",
      "http://t.co/krsy54XMMC\n",
      "http://t.co/gibyQHhKpk\n",
      "http://t.co/yuo7jDnijx\n",
      "http://t.co/u6isXv2F3V\n",
      "http://t.co/jS9EhP88wQ\n",
      "http://t.co/MIubkZ77m6\n",
      "\n",
      "#RT\n",
      "http://t.co/cT9ejXoLpu\n",
      "http://t.co/CBXnHhZ6kD\n",
      "http://t.co/r18aUtnLSd\n",
      "http://t.co/CNqaE9foj6\n",
      "https://t.co/cAvb7pgEpv\n",
      "http://t.co/hKxYzhvmQE\n"
     ]
    }
   ],
   "source": [
    "data = text.Tweet.values\n",
    "# remove urls\n",
    "data_1 = []\n",
    "for d in data:\n",
    "    ws = d.split(' ')\n",
    "    for i, w in enumerate(ws):\n",
    "        if 'http' in w:\n",
    "            print (w)"
   ]
  },
  {
   "cell_type": "code",
   "execution_count": 53,
   "metadata": {},
   "outputs": [
    {
     "data": {
      "text/plain": [
       "0    [different, language]                                                                            \n",
       "1    [sue, legionnaire, family, affected, fatal, outbreak, legionnaire, disea]                        \n",
       "2    [aba, woman, delivers, baby, without, face, photo]                                               \n",
       "3    [train, wreck, body, train, wreck, wreck]                                                        \n",
       "4    [livestream, burned, butter, touched, hot, plate, soon, made, nut, joke]                         \n",
       "5    [another, stand, user, detonate, killer, queen]                                                  \n",
       "6    [face, timed, concert, screamed, minute, straight]                                               \n",
       "7    [florida, forest, service, firefighter, could, deployed, california, help, contain, fire, detail]\n",
       "8    [atomic, bomb, japan, still, struggle, war, past, anniversary, devastation, wrought, b]          \n",
       "9    [killed, civilian, ground, jet, first, bombed, city, main, street, dramatically, plummeted]      \n",
       "Name: normalized_tweet, dtype: object"
      ]
     },
     "execution_count": 53,
     "metadata": {},
     "output_type": "execute_result"
    }
   ],
   "source": [
    "text.normalized_tweet.head(10)"
   ]
  },
  {
   "cell_type": "code",
   "execution_count": 54,
   "metadata": {
    "scrolled": true
   },
   "outputs": [
    {
     "data": {
      "text/html": [
       "<div>\n",
       "<style scoped>\n",
       "    .dataframe tbody tr th:only-of-type {\n",
       "        vertical-align: middle;\n",
       "    }\n",
       "\n",
       "    .dataframe tbody tr th {\n",
       "        vertical-align: top;\n",
       "    }\n",
       "\n",
       "    .dataframe thead th {\n",
       "        text-align: right;\n",
       "    }\n",
       "</style>\n",
       "<table border=\"1\" class=\"dataframe\">\n",
       "  <thead>\n",
       "    <tr style=\"text-align: right;\">\n",
       "      <th></th>\n",
       "      <th>Tweet</th>\n",
       "      <th>normalized_tweet</th>\n",
       "    </tr>\n",
       "  </thead>\n",
       "  <tbody>\n",
       "    <tr>\n",
       "      <th>0</th>\n",
       "      <td>*screams in 25 different languages*</td>\n",
       "      <td>[different, language]</td>\n",
       "    </tr>\n",
       "    <tr>\n",
       "      <th>1</th>\n",
       "      <td>Families to sue over Legionnaires: More than 40 families affected by the fatal outbreak of Legionnaires' disea... http://t.co/ZA4AXFJSVB</td>\n",
       "      <td>[sue, legionnaire, family, affected, fatal, outbreak, legionnaire, disea]</td>\n",
       "    </tr>\n",
       "    <tr>\n",
       "      <th>2</th>\n",
       "      <td>Pandemonium In Aba As Woman Delivers Baby Without Face (Photos) - http://t.co/c5u9qshhnb</td>\n",
       "      <td>[aba, woman, delivers, baby, without, face, photo]</td>\n",
       "    </tr>\n",
       "    <tr>\n",
       "      <th>3</th>\n",
       "      <td>My emotions are a train wreck. My body is a train wreck. I'm a wreck</td>\n",
       "      <td>[train, wreck, body, train, wreck, wreck]</td>\n",
       "    </tr>\n",
       "    <tr>\n",
       "      <th>4</th>\n",
       "      <td>Alton brown just did a livestream and he burned the butter and touched the hot plate too soon and made a nut joke http://t.co/gvd7fcx8iZ</td>\n",
       "      <td>[livestream, burned, butter, touched, hot, plate, soon, made, nut, joke]</td>\n",
       "    </tr>\n",
       "    <tr>\n",
       "      <th>5</th>\n",
       "      <td>@TinyJecht Are you another Stand-user? If you are I will have to detonate you with my Killer Queen.</td>\n",
       "      <td>[another, stand, user, detonate, killer, queen]</td>\n",
       "    </tr>\n",
       "    <tr>\n",
       "      <th>6</th>\n",
       "      <td>brooke just face timed me at the concert and just screamed for 2 minutes straight</td>\n",
       "      <td>[face, timed, concert, screamed, minute, straight]</td>\n",
       "    </tr>\n",
       "    <tr>\n",
       "      <th>7</th>\n",
       "      <td>A group of Florida Forest Service firefighters could be deployed to California to help contain fires. Details at 10! http://t.co/fwuP9YURzY</td>\n",
       "      <td>[florida, forest, service, firefighter, could, deployed, california, help, contain, fire, detail]</td>\n",
       "    </tr>\n",
       "    <tr>\n",
       "      <th>8</th>\n",
       "      <td>70 Years After Atomic Bombs Japan Still Struggles With War Past: The anniversary of the devastation wrought b... http://t.co/iTBJ6DKRZI</td>\n",
       "      <td>[atomic, bomb, japan, still, struggle, war, past, anniversary, devastation, wrought, b]</td>\n",
       "    </tr>\n",
       "    <tr>\n",
       "      <th>9</th>\n",
       "      <td>The majority of those killed were civilians on the ground after the jet first bombed the city's main street then dramatically plummeted</td>\n",
       "      <td>[killed, civilian, ground, jet, first, bombed, city, main, street, dramatically, plummeted]</td>\n",
       "    </tr>\n",
       "  </tbody>\n",
       "</table>\n",
       "</div>"
      ],
      "text/plain": [
       "                                                                                                                                         Tweet  \\\n",
       "0  *screams in 25 different languages*                                                                                                           \n",
       "1  Families to sue over Legionnaires: More than 40 families affected by the fatal outbreak of Legionnaires' disea... http://t.co/ZA4AXFJSVB      \n",
       "2  Pandemonium In Aba As Woman Delivers Baby Without Face (Photos) - http://t.co/c5u9qshhnb                                                      \n",
       "3  My emotions are a train wreck. My body is a train wreck. I'm a wreck                                                                          \n",
       "4  Alton brown just did a livestream and he burned the butter and touched the hot plate too soon and made a nut joke http://t.co/gvd7fcx8iZ      \n",
       "5  @TinyJecht Are you another Stand-user? If you are I will have to detonate you with my Killer Queen.                                           \n",
       "6  brooke just face timed me at the concert and just screamed for 2 minutes straight                                                             \n",
       "7  A group of Florida Forest Service firefighters could be deployed to California to help contain fires. Details at 10! http://t.co/fwuP9YURzY   \n",
       "8  70 Years After Atomic Bombs Japan Still Struggles With War Past: The anniversary of the devastation wrought b... http://t.co/iTBJ6DKRZI       \n",
       "9  The majority of those killed were civilians on the ground after the jet first bombed the city's main street then dramatically plummeted       \n",
       "\n",
       "                                                                                    normalized_tweet  \n",
       "0  [different, language]                                                                              \n",
       "1  [sue, legionnaire, family, affected, fatal, outbreak, legionnaire, disea]                          \n",
       "2  [aba, woman, delivers, baby, without, face, photo]                                                 \n",
       "3  [train, wreck, body, train, wreck, wreck]                                                          \n",
       "4  [livestream, burned, butter, touched, hot, plate, soon, made, nut, joke]                           \n",
       "5  [another, stand, user, detonate, killer, queen]                                                    \n",
       "6  [face, timed, concert, screamed, minute, straight]                                                 \n",
       "7  [florida, forest, service, firefighter, could, deployed, california, help, contain, fire, detail]  \n",
       "8  [atomic, bomb, japan, still, struggle, war, past, anniversary, devastation, wrought, b]            \n",
       "9  [killed, civilian, ground, jet, first, bombed, city, main, street, dramatically, plummeted]        "
      ]
     },
     "execution_count": 54,
     "metadata": {},
     "output_type": "execute_result"
    }
   ],
   "source": [
    "text[['Tweet', 'normalized_tweet']].head(10)"
   ]
  },
  {
   "cell_type": "code",
   "execution_count": 55,
   "metadata": {},
   "outputs": [],
   "source": [
    "#drop the tweet column and just remain with the clean one\n",
    "text = text.drop(['Tweet'], axis = 1)"
   ]
  },
  {
   "cell_type": "code",
   "execution_count": 56,
   "metadata": {},
   "outputs": [
    {
     "data": {
      "text/html": [
       "<div>\n",
       "<style scoped>\n",
       "    .dataframe tbody tr th:only-of-type {\n",
       "        vertical-align: middle;\n",
       "    }\n",
       "\n",
       "    .dataframe tbody tr th {\n",
       "        vertical-align: top;\n",
       "    }\n",
       "\n",
       "    .dataframe thead th {\n",
       "        text-align: right;\n",
       "    }\n",
       "</style>\n",
       "<table border=\"1\" class=\"dataframe\">\n",
       "  <thead>\n",
       "    <tr style=\"text-align: right;\">\n",
       "      <th></th>\n",
       "      <th>Label</th>\n",
       "      <th>normalized_tweet</th>\n",
       "    </tr>\n",
       "  </thead>\n",
       "  <tbody>\n",
       "    <tr>\n",
       "      <th>0</th>\n",
       "      <td>1.0</td>\n",
       "      <td>[different, language]</td>\n",
       "    </tr>\n",
       "    <tr>\n",
       "      <th>1</th>\n",
       "      <td>0.0</td>\n",
       "      <td>[sue, legionnaire, family, affected, fatal, outbreak, legionnaire, disea]</td>\n",
       "    </tr>\n",
       "    <tr>\n",
       "      <th>2</th>\n",
       "      <td>0.0</td>\n",
       "      <td>[aba, woman, delivers, baby, without, face, photo]</td>\n",
       "    </tr>\n",
       "    <tr>\n",
       "      <th>3</th>\n",
       "      <td>0.0</td>\n",
       "      <td>[train, wreck, body, train, wreck, wreck]</td>\n",
       "    </tr>\n",
       "    <tr>\n",
       "      <th>4</th>\n",
       "      <td>1.0</td>\n",
       "      <td>[livestream, burned, butter, touched, hot, plate, soon, made, nut, joke]</td>\n",
       "    </tr>\n",
       "    <tr>\n",
       "      <th>5</th>\n",
       "      <td>1.0</td>\n",
       "      <td>[another, stand, user, detonate, killer, queen]</td>\n",
       "    </tr>\n",
       "    <tr>\n",
       "      <th>6</th>\n",
       "      <td>1.0</td>\n",
       "      <td>[face, timed, concert, screamed, minute, straight]</td>\n",
       "    </tr>\n",
       "    <tr>\n",
       "      <th>7</th>\n",
       "      <td>0.0</td>\n",
       "      <td>[florida, forest, service, firefighter, could, deployed, california, help, contain, fire, detail]</td>\n",
       "    </tr>\n",
       "    <tr>\n",
       "      <th>8</th>\n",
       "      <td>0.0</td>\n",
       "      <td>[atomic, bomb, japan, still, struggle, war, past, anniversary, devastation, wrought, b]</td>\n",
       "    </tr>\n",
       "    <tr>\n",
       "      <th>9</th>\n",
       "      <td>0.0</td>\n",
       "      <td>[killed, civilian, ground, jet, first, bombed, city, main, street, dramatically, plummeted]</td>\n",
       "    </tr>\n",
       "  </tbody>\n",
       "</table>\n",
       "</div>"
      ],
      "text/plain": [
       "   Label  \\\n",
       "0  1.0     \n",
       "1  0.0     \n",
       "2  0.0     \n",
       "3  0.0     \n",
       "4  1.0     \n",
       "5  1.0     \n",
       "6  1.0     \n",
       "7  0.0     \n",
       "8  0.0     \n",
       "9  0.0     \n",
       "\n",
       "                                                                                    normalized_tweet  \n",
       "0  [different, language]                                                                              \n",
       "1  [sue, legionnaire, family, affected, fatal, outbreak, legionnaire, disea]                          \n",
       "2  [aba, woman, delivers, baby, without, face, photo]                                                 \n",
       "3  [train, wreck, body, train, wreck, wreck]                                                          \n",
       "4  [livestream, burned, butter, touched, hot, plate, soon, made, nut, joke]                           \n",
       "5  [another, stand, user, detonate, killer, queen]                                                    \n",
       "6  [face, timed, concert, screamed, minute, straight]                                                 \n",
       "7  [florida, forest, service, firefighter, could, deployed, california, help, contain, fire, detail]  \n",
       "8  [atomic, bomb, japan, still, struggle, war, past, anniversary, devastation, wrought, b]            \n",
       "9  [killed, civilian, ground, jet, first, bombed, city, main, street, dramatically, plummeted]        "
      ]
     },
     "execution_count": 56,
     "metadata": {},
     "output_type": "execute_result"
    }
   ],
   "source": [
    "text.head(10)"
   ]
  },
  {
   "cell_type": "code",
   "execution_count": 57,
   "metadata": {},
   "outputs": [],
   "source": [
    "#Now we shall look at the words that contributed to each type of sentiment more than the other"
   ]
  },
  {
   "cell_type": "code",
   "execution_count": 58,
   "metadata": {},
   "outputs": [
    {
     "data": {
      "text/html": [
       "<div>\n",
       "<style scoped>\n",
       "    .dataframe tbody tr th:only-of-type {\n",
       "        vertical-align: middle;\n",
       "    }\n",
       "\n",
       "    .dataframe tbody tr th {\n",
       "        vertical-align: top;\n",
       "    }\n",
       "\n",
       "    .dataframe thead th {\n",
       "        text-align: right;\n",
       "    }\n",
       "</style>\n",
       "<table border=\"1\" class=\"dataframe\">\n",
       "  <thead>\n",
       "    <tr style=\"text-align: right;\">\n",
       "      <th></th>\n",
       "      <th>grams</th>\n",
       "    </tr>\n",
       "  </thead>\n",
       "  <tbody>\n",
       "    <tr>\n",
       "      <th>0</th>\n",
       "      <td>[different language]</td>\n",
       "    </tr>\n",
       "    <tr>\n",
       "      <th>1</th>\n",
       "      <td>[sue legionnaire, legionnaire family, family affected, affected fatal, fatal outbreak, outbreak legionnaire, legionnaire disea, sue legionnaire family, legionnaire family affected, family affected fatal, affected fatal outbreak, fatal outbreak legionnaire, outbreak legionnaire disea]</td>\n",
       "    </tr>\n",
       "    <tr>\n",
       "      <th>2</th>\n",
       "      <td>[aba woman, woman delivers, delivers baby, baby without, without face, face photo, aba woman delivers, woman delivers baby, delivers baby without, baby without face, without face photo]</td>\n",
       "    </tr>\n",
       "    <tr>\n",
       "      <th>3</th>\n",
       "      <td>[train wreck, wreck body, body train, train wreck, wreck wreck, train wreck body, wreck body train, body train wreck, train wreck wreck]</td>\n",
       "    </tr>\n",
       "    <tr>\n",
       "      <th>4</th>\n",
       "      <td>[livestream burned, burned butter, butter touched, touched hot, hot plate, plate soon, soon made, made nut, nut joke, livestream burned butter, burned butter touched, butter touched hot, touched hot plate, hot plate soon, plate soon made, soon made nut, made nut joke]</td>\n",
       "    </tr>\n",
       "  </tbody>\n",
       "</table>\n",
       "</div>"
      ],
      "text/plain": [
       "                                                                                                                                                                                                                                                                                          grams\n",
       "0  [different language]                                                                                                                                                                                                                                                                        \n",
       "1  [sue legionnaire, legionnaire family, family affected, affected fatal, fatal outbreak, outbreak legionnaire, legionnaire disea, sue legionnaire family, legionnaire family affected, family affected fatal, affected fatal outbreak, fatal outbreak legionnaire, outbreak legionnaire disea]\n",
       "2  [aba woman, woman delivers, delivers baby, baby without, without face, face photo, aba woman delivers, woman delivers baby, delivers baby without, baby without face, without face photo]                                                                                                   \n",
       "3  [train wreck, wreck body, body train, train wreck, wreck wreck, train wreck body, wreck body train, body train wreck, train wreck wreck]                                                                                                                                                    \n",
       "4  [livestream burned, burned butter, butter touched, touched hot, hot plate, plate soon, soon made, made nut, nut joke, livestream burned butter, burned butter touched, butter touched hot, touched hot plate, hot plate soon, plate soon made, soon made nut, made nut joke]                "
      ]
     },
     "execution_count": 58,
     "metadata": {},
     "output_type": "execute_result"
    }
   ],
   "source": [
    "from nltk import ngrams\n",
    "def ngrams(input_list):\n",
    "    bigrams = [' '.join(t) for t in list(zip(input_list, input_list[1:]))]\n",
    "    trigrams = [' '.join(t) for t in list(zip(input_list, input_list[1:], input_list[2:]))]\n",
    "    return bigrams + trigrams\n",
    "text['grams'] = text.normalized_tweet.apply(ngrams)\n",
    "text[['grams']].head()"
   ]
  },
  {
   "cell_type": "code",
   "execution_count": 59,
   "metadata": {},
   "outputs": [],
   "source": [
    "import collections\n",
    "def count_words(input):\n",
    "    cnt = collections.Counter()\n",
    "    for row in input:\n",
    "        for word in row:\n",
    "            cnt[word] += 1\n",
    "    return cnt"
   ]
  },
  {
   "cell_type": "code",
   "execution_count": 60,
   "metadata": {},
   "outputs": [
    {
     "data": {
      "text/plain": [
       "[('gon na', 4),\n",
       " ('forest fire', 3),\n",
       " ('full read', 3),\n",
       " ('body bag', 2),\n",
       " ('year old', 2),\n",
       " ('anybody else', 2),\n",
       " ('read ebay', 2),\n",
       " ('full read ebay', 2),\n",
       " ('issue issue', 2),\n",
       " ('syrian refugee', 2),\n",
       " ('quarantine offensive', 2),\n",
       " ('offensive content', 2),\n",
       " ('quarantine offensive content', 2),\n",
       " ('high school', 2),\n",
       " ('meat loving', 2)]"
      ]
     },
     "execution_count": 60,
     "metadata": {},
     "output_type": "execute_result"
    }
   ],
   "source": [
    "#word counts per label in from high to low\n",
    "text[(text.Label == 1)][['grams']].apply(count_words)['grams'].most_common(15)"
   ]
  },
  {
   "cell_type": "code",
   "execution_count": 61,
   "metadata": {
    "scrolled": true
   },
   "outputs": [
    {
     "data": {
      "text/plain": [
       "[('airport get', 5),\n",
       " ('get swallowed', 5),\n",
       " ('swallowed sandstorm', 5),\n",
       " ('sandstorm minute', 5),\n",
       " ('airport get swallowed', 5),\n",
       " ('get swallowed sandstorm', 5),\n",
       " ('swallowed sandstorm minute', 5),\n",
       " ('oil spill', 5),\n",
       " ('mass murder', 4),\n",
       " ('northern california', 4),\n",
       " ('disaster typhoon', 4),\n",
       " ('typhoon devastated', 4),\n",
       " ('devastated saipan', 4),\n",
       " ('disaster typhoon devastated', 4),\n",
       " ('typhoon devastated saipan', 4)]"
      ]
     },
     "execution_count": 61,
     "metadata": {},
     "output_type": "execute_result"
    }
   ],
   "source": [
    "#word counts per label in from high to low\n",
    "text[(text.Label == 0)][['grams']].apply(count_words)['grams'].most_common(15)"
   ]
  },
  {
   "cell_type": "code",
   "execution_count": 62,
   "metadata": {},
   "outputs": [],
   "source": [
    "#Writing clean file to computer"
   ]
  },
  {
   "cell_type": "code",
   "execution_count": 63,
   "metadata": {},
   "outputs": [],
   "source": [
    "text = text.drop(['grams'], axis = 1)"
   ]
  },
  {
   "cell_type": "code",
   "execution_count": 64,
   "metadata": {},
   "outputs": [],
   "source": [
    "text.to_csv('cleaned_data.csv')"
   ]
  },
  {
   "cell_type": "code",
   "execution_count": 65,
   "metadata": {},
   "outputs": [],
   "source": [
    "##We start now training a model"
   ]
  },
  {
   "cell_type": "code",
   "execution_count": 84,
   "metadata": {},
   "outputs": [
    {
     "name": "stderr",
     "output_type": "stream",
     "text": [
      "ERROR:root:Internal Python error in the inspect module.\n",
      "Below is the traceback from this internal error.\n",
      "\n"
     ]
    },
    {
     "name": "stdout",
     "output_type": "stream",
     "text": [
      "Traceback (most recent call last):\n",
      "  File \"C:\\Users\\OWNER\\anaconda3\\lib\\site-packages\\IPython\\core\\interactiveshell.py\", line 3331, in run_code\n",
      "    exec(code_obj, self.user_global_ns, self.user_ns)\n",
      "  File \"<ipython-input-84-8e6dc80ca330>\", line 4, in <module>\n",
      "    import tensorflow_hub as hub\n",
      "ModuleNotFoundError: No module named 'tensorflow_hub'\n",
      "\n",
      "During handling of the above exception, another exception occurred:\n",
      "\n",
      "Traceback (most recent call last):\n",
      "  File \"C:\\Users\\OWNER\\anaconda3\\lib\\site-packages\\IPython\\core\\interactiveshell.py\", line 2044, in showtraceback\n",
      "    stb = value._render_traceback_()\n",
      "AttributeError: 'ModuleNotFoundError' object has no attribute '_render_traceback_'\n",
      "\n",
      "During handling of the above exception, another exception occurred:\n",
      "\n",
      "Traceback (most recent call last):\n",
      "  File \"C:\\Users\\OWNER\\anaconda3\\lib\\site-packages\\tensorflow_core\\python\\pywrap_tensorflow.py\", line 58, in <module>\n",
      "    from tensorflow.python.pywrap_tensorflow_internal import *\n",
      "  File \"C:\\Users\\OWNER\\anaconda3\\lib\\site-packages\\tensorflow_core\\python\\pywrap_tensorflow_internal.py\", line 28, in <module>\n",
      "    _pywrap_tensorflow_internal = swig_import_helper()\n",
      "  File \"C:\\Users\\OWNER\\anaconda3\\lib\\site-packages\\tensorflow_core\\python\\pywrap_tensorflow_internal.py\", line 24, in swig_import_helper\n",
      "    _mod = imp.load_module('_pywrap_tensorflow_internal', fp, pathname, description)\n",
      "  File \"C:\\Users\\OWNER\\anaconda3\\lib\\imp.py\", line 242, in load_module\n",
      "    return load_dynamic(name, filename, file)\n",
      "  File \"C:\\Users\\OWNER\\anaconda3\\lib\\imp.py\", line 342, in load_dynamic\n",
      "    return _load(spec)\n",
      "ImportError: DLL load failed: The specified module could not be found.\n",
      "\n",
      "During handling of the above exception, another exception occurred:\n",
      "\n",
      "Traceback (most recent call last):\n",
      "  File \"C:\\Users\\OWNER\\anaconda3\\lib\\site-packages\\IPython\\core\\ultratb.py\", line 1151, in get_records\n",
      "    return _fixed_getinnerframes(etb, number_of_lines_of_context, tb_offset)\n",
      "  File \"C:\\Users\\OWNER\\anaconda3\\lib\\site-packages\\IPython\\core\\ultratb.py\", line 319, in wrapped\n",
      "    return f(*args, **kwargs)\n",
      "  File \"C:\\Users\\OWNER\\anaconda3\\lib\\site-packages\\IPython\\core\\ultratb.py\", line 353, in _fixed_getinnerframes\n",
      "    records = fix_frame_records_filenames(inspect.getinnerframes(etb, context))\n",
      "  File \"C:\\Users\\OWNER\\anaconda3\\lib\\inspect.py\", line 1502, in getinnerframes\n",
      "    frameinfo = (tb.tb_frame,) + getframeinfo(tb, context)\n",
      "  File \"C:\\Users\\OWNER\\anaconda3\\lib\\inspect.py\", line 1460, in getframeinfo\n",
      "    filename = getsourcefile(frame) or getfile(frame)\n",
      "  File \"C:\\Users\\OWNER\\anaconda3\\lib\\inspect.py\", line 696, in getsourcefile\n",
      "    if getattr(getmodule(object, filename), '__loader__', None) is not None:\n",
      "  File \"C:\\Users\\OWNER\\anaconda3\\lib\\inspect.py\", line 733, in getmodule\n",
      "    if ismodule(module) and hasattr(module, '__file__'):\n",
      "  File \"C:\\Users\\OWNER\\anaconda3\\lib\\site-packages\\tensorflow\\__init__.py\", line 50, in __getattr__\n",
      "    module = self._load()\n",
      "  File \"C:\\Users\\OWNER\\anaconda3\\lib\\site-packages\\tensorflow\\__init__.py\", line 44, in _load\n",
      "    module = _importlib.import_module(self.__name__)\n",
      "  File \"C:\\Users\\OWNER\\anaconda3\\lib\\importlib\\__init__.py\", line 127, in import_module\n",
      "    return _bootstrap._gcd_import(name[level:], package, level)\n",
      "  File \"<frozen importlib._bootstrap>\", line 1006, in _gcd_import\n",
      "  File \"<frozen importlib._bootstrap>\", line 983, in _find_and_load\n",
      "  File \"<frozen importlib._bootstrap>\", line 953, in _find_and_load_unlocked\n",
      "  File \"<frozen importlib._bootstrap>\", line 219, in _call_with_frames_removed\n",
      "  File \"<frozen importlib._bootstrap>\", line 1006, in _gcd_import\n",
      "  File \"<frozen importlib._bootstrap>\", line 983, in _find_and_load\n",
      "  File \"<frozen importlib._bootstrap>\", line 967, in _find_and_load_unlocked\n",
      "  File \"<frozen importlib._bootstrap>\", line 677, in _load_unlocked\n",
      "  File \"<frozen importlib._bootstrap_external>\", line 728, in exec_module\n",
      "  File \"<frozen importlib._bootstrap>\", line 219, in _call_with_frames_removed\n",
      "  File \"C:\\Users\\OWNER\\anaconda3\\lib\\site-packages\\tensorflow_core\\__init__.py\", line 42, in <module>\n",
      "    from . _api.v2 import audio\n",
      "  File \"C:\\Users\\OWNER\\anaconda3\\lib\\site-packages\\tensorflow_core\\_api\\v2\\audio\\__init__.py\", line 10, in <module>\n",
      "    from tensorflow.python.ops.gen_audio_ops import decode_wav\n",
      "  File \"C:\\Users\\OWNER\\anaconda3\\lib\\site-packages\\tensorflow_core\\python\\ops\\gen_audio_ops.py\", line 9, in <module>\n",
      "    from tensorflow.python import pywrap_tensorflow as _pywrap_tensorflow\n",
      "  File \"C:\\Users\\OWNER\\anaconda3\\lib\\site-packages\\tensorflow\\__init__.py\", line 50, in __getattr__\n",
      "    module = self._load()\n",
      "  File \"C:\\Users\\OWNER\\anaconda3\\lib\\site-packages\\tensorflow\\__init__.py\", line 44, in _load\n",
      "    module = _importlib.import_module(self.__name__)\n",
      "  File \"C:\\Users\\OWNER\\anaconda3\\lib\\importlib\\__init__.py\", line 127, in import_module\n",
      "    return _bootstrap._gcd_import(name[level:], package, level)\n",
      "  File \"C:\\Users\\OWNER\\anaconda3\\lib\\site-packages\\tensorflow_core\\python\\__init__.py\", line 49, in <module>\n",
      "    from tensorflow.python import pywrap_tensorflow\n",
      "  File \"C:\\Users\\OWNER\\anaconda3\\lib\\site-packages\\tensorflow_core\\python\\pywrap_tensorflow.py\", line 74, in <module>\n",
      "    raise ImportError(msg)\n",
      "ImportError: Traceback (most recent call last):\n",
      "  File \"C:\\Users\\OWNER\\anaconda3\\lib\\site-packages\\IPython\\core\\interactiveshell.py\", line 3331, in run_code\n",
      "    exec(code_obj, self.user_global_ns, self.user_ns)\n",
      "  File \"<ipython-input-84-8e6dc80ca330>\", line 4, in <module>\n",
      "    import tensorflow_hub as hub\n",
      "ModuleNotFoundError: No module named 'tensorflow_hub'\n",
      "\n",
      "During handling of the above exception, another exception occurred:\n",
      "\n",
      "Traceback (most recent call last):\n",
      "  File \"C:\\Users\\OWNER\\anaconda3\\lib\\site-packages\\IPython\\core\\interactiveshell.py\", line 2044, in showtraceback\n",
      "    stb = value._render_traceback_()\n",
      "AttributeError: 'ModuleNotFoundError' object has no attribute '_render_traceback_'\n",
      "\n",
      "During handling of the above exception, another exception occurred:\n",
      "\n",
      "Traceback (most recent call last):\n",
      "  File \"C:\\Users\\OWNER\\anaconda3\\lib\\site-packages\\tensorflow_core\\python\\pywrap_tensorflow.py\", line 58, in <module>\n",
      "    from tensorflow.python.pywrap_tensorflow_internal import *\n",
      "  File \"C:\\Users\\OWNER\\anaconda3\\lib\\site-packages\\tensorflow_core\\python\\pywrap_tensorflow_internal.py\", line 28, in <module>\n",
      "    _pywrap_tensorflow_internal = swig_import_helper()\n",
      "  File \"C:\\Users\\OWNER\\anaconda3\\lib\\site-packages\\tensorflow_core\\python\\pywrap_tensorflow_internal.py\", line 24, in swig_import_helper\n",
      "    _mod = imp.load_module('_pywrap_tensorflow_internal', fp, pathname, description)\n",
      "  File \"C:\\Users\\OWNER\\anaconda3\\lib\\imp.py\", line 242, in load_module\n",
      "    return load_dynamic(name, filename, file)\n",
      "  File \"C:\\Users\\OWNER\\anaconda3\\lib\\imp.py\", line 342, in load_dynamic\n",
      "    return _load(spec)\n",
      "ImportError: DLL load failed: The specified module could not be found.\n",
      "\n",
      "\n",
      "Failed to load the native TensorFlow runtime.\n",
      "\n",
      "See https://www.tensorflow.org/install/errors\n",
      "\n",
      "for some common reasons and solutions.  Include the entire stack trace\n",
      "above this error message when asking for help.\n"
     ]
    },
    {
     "ename": "ModuleNotFoundError",
     "evalue": "No module named 'tensorflow_hub'",
     "output_type": "error",
     "traceback": [
      "\u001b[1;31m---------------------------------------------------------------------------\u001b[0m"
     ]
    }
   ],
   "source": [
    "#!pip install tensorflow\n",
    "from sklearn.model_selection import train_test_split \n",
    "from tensorflow import keras\n",
    "import tensorflow_hub as hub\n",
    "import tensorflow_datasets as tfd\n",
    "import tensorflow as tf"
   ]
  },
  {
   "cell_type": "code",
   "execution_count": 68,
   "metadata": {},
   "outputs": [],
   "source": [
    "#create two datasets\n",
    "labels = text.Label\n",
    "text_clean = text.normalized_tweet"
   ]
  },
  {
   "cell_type": "code",
   "execution_count": 71,
   "metadata": {},
   "outputs": [
    {
     "data": {
      "text/plain": [
       "0    1.0\n",
       "1    0.0\n",
       "2    0.0\n",
       "3    0.0\n",
       "4    1.0\n",
       "Name: Label, dtype: float64"
      ]
     },
     "execution_count": 71,
     "metadata": {},
     "output_type": "execute_result"
    }
   ],
   "source": [
    "labels.head(5)"
   ]
  },
  {
   "cell_type": "code",
   "execution_count": 72,
   "metadata": {
    "scrolled": true
   },
   "outputs": [
    {
     "data": {
      "text/plain": [
       "0    [different, language]                                                    \n",
       "1    [sue, legionnaire, family, affected, fatal, outbreak, legionnaire, disea]\n",
       "2    [aba, woman, delivers, baby, without, face, photo]                       \n",
       "3    [train, wreck, body, train, wreck, wreck]                                \n",
       "4    [livestream, burned, butter, touched, hot, plate, soon, made, nut, joke] \n",
       "Name: normalized_tweet, dtype: object"
      ]
     },
     "execution_count": 72,
     "metadata": {},
     "output_type": "execute_result"
    }
   ],
   "source": [
    "text_clean.head(5)"
   ]
  },
  {
   "cell_type": "code",
   "execution_count": null,
   "metadata": {},
   "outputs": [],
   "source": []
  },
  {
   "cell_type": "code",
   "execution_count": null,
   "metadata": {},
   "outputs": [],
   "source": []
  },
  {
   "cell_type": "code",
   "execution_count": 74,
   "metadata": {},
   "outputs": [],
   "source": [
    "#Split the dataset into training and test\n",
    "x_train,x_test,y_train,y_test=train_test_split(text_clean,labels,\n",
    "    test_size=0.2,\n",
    "    random_state=123)"
   ]
  },
  {
   "cell_type": "code",
   "execution_count": 76,
   "metadata": {},
   "outputs": [
    {
     "data": {
      "text/plain": [
       "((148,), (591,), (591,), (148,))"
      ]
     },
     "execution_count": 76,
     "metadata": {},
     "output_type": "execute_result"
    }
   ],
   "source": [
    "y_test.shape, y_train.shape, x_train.shape, x_test.shape"
   ]
  },
  {
   "cell_type": "code",
   "execution_count": 82,
   "metadata": {},
   "outputs": [],
   "source": [
    "embedding = \"https://tfhub.dev/google/tf2-preview/gnews-swivel-20dim/1\"\n",
    "#hub_layer = hub.KerasLayer(embedding, input_shape=[], dtype=tf.string, trainable=True)\n",
    "#hub_layer(x_train)"
   ]
  },
  {
   "cell_type": "code",
   "execution_count": 83,
   "metadata": {},
   "outputs": [
    {
     "data": {
      "text/plain": [
       "'https://tfhub.dev/google/tf2-preview/gnews-swivel-20dim/1'"
      ]
     },
     "execution_count": 83,
     "metadata": {},
     "output_type": "execute_result"
    }
   ],
   "source": [
    "embedding"
   ]
  },
  {
   "cell_type": "code",
   "execution_count": 91,
   "metadata": {},
   "outputs": [
    {
     "data": {
      "text/html": [
       "<div>\n",
       "<style scoped>\n",
       "    .dataframe tbody tr th:only-of-type {\n",
       "        vertical-align: middle;\n",
       "    }\n",
       "\n",
       "    .dataframe tbody tr th {\n",
       "        vertical-align: top;\n",
       "    }\n",
       "\n",
       "    .dataframe thead th {\n",
       "        text-align: right;\n",
       "    }\n",
       "</style>\n",
       "<table border=\"1\" class=\"dataframe\">\n",
       "  <thead>\n",
       "    <tr style=\"text-align: right;\">\n",
       "      <th></th>\n",
       "      <th>normalized_tweet</th>\n",
       "    </tr>\n",
       "  </thead>\n",
       "  <tbody>\n",
       "    <tr>\n",
       "      <th>0</th>\n",
       "      <td>[different, language]</td>\n",
       "    </tr>\n",
       "    <tr>\n",
       "      <th>4</th>\n",
       "      <td>[livestream, burned, butter, touched, hot, plate, soon, made, nut, joke]</td>\n",
       "    </tr>\n",
       "    <tr>\n",
       "      <th>5</th>\n",
       "      <td>[another, stand, user, detonate, killer, queen]</td>\n",
       "    </tr>\n",
       "    <tr>\n",
       "      <th>6</th>\n",
       "      <td>[face, timed, concert, screamed, minute, straight]</td>\n",
       "    </tr>\n",
       "    <tr>\n",
       "      <th>11</th>\n",
       "      <td>[phone, worstoverdose, scream, jaileens, caked, phone, everyone, look]</td>\n",
       "    </tr>\n",
       "    <tr>\n",
       "      <th>...</th>\n",
       "      <td>...</td>\n",
       "    </tr>\n",
       "    <tr>\n",
       "      <th>717</th>\n",
       "      <td>[sophisticated, funny, good, natured, treat, slight, pleasure]</td>\n",
       "    </tr>\n",
       "    <tr>\n",
       "      <th>719</th>\n",
       "      <td>[seen, believed]</td>\n",
       "    </tr>\n",
       "    <tr>\n",
       "      <th>729</th>\n",
       "      <td>[pledged, make, every, effort, seek, world, without, nuclear, weapon]</td>\n",
       "    </tr>\n",
       "    <tr>\n",
       "      <th>730</th>\n",
       "      <td>[trapped, miner, released, chile, zippednews]</td>\n",
       "    </tr>\n",
       "    <tr>\n",
       "      <th>733</th>\n",
       "      <td>[live, somewhere, else, da, mill, bad, son, perspective]</td>\n",
       "    </tr>\n",
       "  </tbody>\n",
       "</table>\n",
       "<p>267 rows × 1 columns</p>\n",
       "</div>"
      ],
      "text/plain": [
       "                                                             normalized_tweet\n",
       "0    [different, language]                                                   \n",
       "4    [livestream, burned, butter, touched, hot, plate, soon, made, nut, joke]\n",
       "5    [another, stand, user, detonate, killer, queen]                         \n",
       "6    [face, timed, concert, screamed, minute, straight]                      \n",
       "11   [phone, worstoverdose, scream, jaileens, caked, phone, everyone, look]  \n",
       "..                                                                      ...  \n",
       "717  [sophisticated, funny, good, natured, treat, slight, pleasure]          \n",
       "719  [seen, believed]                                                        \n",
       "729  [pledged, make, every, effort, seek, world, without, nuclear, weapon]   \n",
       "730  [trapped, miner, released, chile, zippednews]                           \n",
       "733  [live, somewhere, else, da, mill, bad, son, perspective]                \n",
       "\n",
       "[267 rows x 1 columns]"
      ]
     },
     "execution_count": 91,
     "metadata": {},
     "output_type": "execute_result"
    }
   ],
   "source": [
    "positive_sentiments = text[(text.Label == 1)][['normalized_tweet']]\n",
    "positive_sentiments"
   ]
  },
  {
   "cell_type": "code",
   "execution_count": 90,
   "metadata": {},
   "outputs": [
    {
     "data": {
      "text/html": [
       "<div>\n",
       "<style scoped>\n",
       "    .dataframe tbody tr th:only-of-type {\n",
       "        vertical-align: middle;\n",
       "    }\n",
       "\n",
       "    .dataframe tbody tr th {\n",
       "        vertical-align: top;\n",
       "    }\n",
       "\n",
       "    .dataframe thead th {\n",
       "        text-align: right;\n",
       "    }\n",
       "</style>\n",
       "<table border=\"1\" class=\"dataframe\">\n",
       "  <thead>\n",
       "    <tr style=\"text-align: right;\">\n",
       "      <th></th>\n",
       "      <th>normalized_tweet</th>\n",
       "    </tr>\n",
       "  </thead>\n",
       "  <tbody>\n",
       "    <tr>\n",
       "      <th>1</th>\n",
       "      <td>[sue, legionnaire, family, affected, fatal, outbreak, legionnaire, disea]</td>\n",
       "    </tr>\n",
       "    <tr>\n",
       "      <th>2</th>\n",
       "      <td>[aba, woman, delivers, baby, without, face, photo]</td>\n",
       "    </tr>\n",
       "    <tr>\n",
       "      <th>3</th>\n",
       "      <td>[train, wreck, body, train, wreck, wreck]</td>\n",
       "    </tr>\n",
       "    <tr>\n",
       "      <th>7</th>\n",
       "      <td>[florida, forest, service, firefighter, could, deployed, california, help, contain, fire, detail]</td>\n",
       "    </tr>\n",
       "    <tr>\n",
       "      <th>8</th>\n",
       "      <td>[atomic, bomb, japan, still, struggle, war, past, anniversary, devastation, wrought, b]</td>\n",
       "    </tr>\n",
       "    <tr>\n",
       "      <th>...</th>\n",
       "      <td>...</td>\n",
       "    </tr>\n",
       "    <tr>\n",
       "      <th>734</th>\n",
       "      <td>[held, hostage, network, due, affiliation, fee]</td>\n",
       "    </tr>\n",
       "    <tr>\n",
       "      <th>735</th>\n",
       "      <td>[im, scared, karma]</td>\n",
       "    </tr>\n",
       "    <tr>\n",
       "      <th>736</th>\n",
       "      <td>[change, language, around, traffic, fatality, need, go, back, future, visionzero]</td>\n",
       "    </tr>\n",
       "    <tr>\n",
       "      <th>737</th>\n",
       "      <td>[living, seattle, predicted, earthquake, going, destroy]</td>\n",
       "    </tr>\n",
       "    <tr>\n",
       "      <th>738</th>\n",
       "      <td>[sue, legionnaire, family, affected, fatal, outbreak, legionnaire, disea]</td>\n",
       "    </tr>\n",
       "  </tbody>\n",
       "</table>\n",
       "<p>471 rows × 1 columns</p>\n",
       "</div>"
      ],
      "text/plain": [
       "                                                                                      normalized_tweet\n",
       "1    [sue, legionnaire, family, affected, fatal, outbreak, legionnaire, disea]                        \n",
       "2    [aba, woman, delivers, baby, without, face, photo]                                               \n",
       "3    [train, wreck, body, train, wreck, wreck]                                                        \n",
       "7    [florida, forest, service, firefighter, could, deployed, california, help, contain, fire, detail]\n",
       "8    [atomic, bomb, japan, still, struggle, war, past, anniversary, devastation, wrought, b]          \n",
       "..                                                                                       ...          \n",
       "734  [held, hostage, network, due, affiliation, fee]                                                  \n",
       "735  [im, scared, karma]                                                                              \n",
       "736  [change, language, around, traffic, fatality, need, go, back, future, visionzero]                \n",
       "737  [living, seattle, predicted, earthquake, going, destroy]                                         \n",
       "738  [sue, legionnaire, family, affected, fatal, outbreak, legionnaire, disea]                        \n",
       "\n",
       "[471 rows x 1 columns]"
      ]
     },
     "execution_count": 90,
     "metadata": {},
     "output_type": "execute_result"
    }
   ],
   "source": [
    "negative_sentiments = text[(text.Label == 0)][['normalized_tweet']]\n",
    "negative_sentiments"
   ]
  },
  {
   "cell_type": "code",
   "execution_count": null,
   "metadata": {},
   "outputs": [],
   "source": []
  },
  {
   "cell_type": "code",
   "execution_count": 97,
   "metadata": {},
   "outputs": [],
   "source": [
    "from wordcloud import WordCloud, STOPWORDS\n",
    "import matplotlib.pyplot as plt\n",
    "stopwords = set(STOPWORDS)\n",
    "\n",
    "def show_wordcloud(data, title = None):\n",
    "    wordcloud = WordCloud(\n",
    "        background_color='white',\n",
    "        stopwords=stopwords,\n",
    "        max_words=200,\n",
    "        max_font_size=40, \n",
    "        scale=3,\n",
    "        random_state=1 # chosen at random by flipping a coin; it was heads\n",
    "    ).generate(str(data))\n",
    "\n",
    "    fig = plt.figure(1, figsize=(12, 12))\n",
    "    plt.axis('off')\n",
    "    if title: \n",
    "        fig.suptitle(title, fontsize=20)\n",
    "        fig.subplots_adjust(top=2.3)\n",
    "\n",
    "    plt.imshow(wordcloud)\n",
    "    plt.show()\n",
    "\n"
   ]
  },
  {
   "cell_type": "code",
   "execution_count": 98,
   "metadata": {},
   "outputs": [
    {
     "data": {
      "image/png": "[encoded data removed]",
      "text/plain": [
       "<Figure size 864x864 with 1 Axes>"
      ]
     },
     "metadata": {
      "needs_background": "light"
     },
     "output_type": "display_data"
    }
   ],
   "source": [
    "#show word cloud for positive sentiments \n",
    "show_wordcloud(positive_sentiments)\n"
   ]
  },
  {
   "cell_type": "code",
   "execution_count": 99,
   "metadata": {},
   "outputs": [
    {
     "data": {
      "image/png": "[encoded data removed]",
      "text/plain": [
       "<Figure size 864x864 with 1 Axes>"
      ]
     },
     "metadata": {
      "needs_background": "light"
     },
     "output_type": "display_data"
    }
   ],
   "source": [
    "#word cloud for negative sentiments \n",
    "show_wordcloud(negative_sentiments)"
   ]
  },
  {
   "cell_type": "code",
   "execution_count": null,
   "metadata": {},
   "outputs": [],
   "source": []
  }
 ],
 "metadata": {
  "kernelspec": {
   "display_name": "Python 3",
   "language": "python",
   "name": "python3"
  },
  "language_info": {
   "codemirror_mode": {
    "name": "ipython",
    "version": 3
   },
   "file_extension": ".py",
   "mimetype": "text/x-python",
   "name": "python",
   "nbconvert_exporter": "python",
   "pygments_lexer": "ipython3",
   "version": "3.7.6"
  }
 },
 "nbformat": 4,
 "nbformat_minor": 4
}
